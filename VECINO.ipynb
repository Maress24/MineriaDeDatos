{
 "cells": [
  {
   "cell_type": "code",
   "execution_count": 103,
   "metadata": {},
   "outputs": [],
   "source": [
    "import pandas as pd\n",
    "import matplotlib.pyplot as plt\n",
    "import numpy as np\n",
    "from typing import List, Tuple\n",
    "from scipy.stats import mode\n",
    "from itertools import groupby"
   ]
  },
  {
   "cell_type": "code",
   "execution_count": 104,
   "metadata": {},
   "outputs": [],
   "source": [
    "# Normalizamos una distribución a un tamaño\n",
    "def normalize_distribution(dist: np.array, n: int) -> np.array:\n",
    "    # ajustamos a la suma n \n",
    "    b = dist - min(dist) + 0.000001\n",
    "    c = (b / np.sum(b)) * n\n",
    "    return np.round(c)"
   ]
  },
  {
   "cell_type": "code",
   "execution_count": 105,
   "metadata": {},
   "outputs": [],
   "source": [
    "# Creamos una distribución normalizada con medida * tamaño\n",
    "def create_distribution(mean: float, size: int) -> pd.Series:\n",
    "    return normalize_distribution(np.random.standard_normal(size), mean * size)"
   ]
  },
  {
   "cell_type": "code",
   "execution_count": 106,
   "metadata": {},
   "outputs": [],
   "source": [
    "# Generamos las listas de distribuciones para las medidas especificadas\n",
    "def generate_df(means: List[Tuple[float, float, str]], n: int) -> pd.DataFrame:\n",
    "    lists = [\n",
    "        (create_distribution(_x, n), create_distribution(_y, n), np.repeat(_l, n))\n",
    "        for _x, _y, _l in means\n",
    "    ]\n",
    "    x = np.array([])\n",
    "    y = np.array([])\n",
    "    labels = np.array([])\n",
    "    for _x, _y, _l in lists:\n",
    "        x = np.concatenate((x, _x), axis=None)\n",
    "        y = np.concatenate((y, _y))\n",
    "        labels = np.concatenate((labels, _l))\n",
    "    return pd.DataFrame({\"titulo\": x, \"duracion\": y, \"estreno\": labels})"
   ]
  },
  {
   "cell_type": "code",
   "execution_count": 107,
   "metadata": {},
   "outputs": [],
   "source": [
    "def scatter_group_by(df: pd.DataFrame, x_column: str, y_column: str, label_column: str):\n",
    "    fig, ax = plt.subplots()\n",
    "    labels = pd.unique(df[label_column])\n",
    "    \n",
    "    custom_colors = ['red', 'green', 'blue']\n",
    "\n",
    "    for i, label in enumerate(labels):\n",
    "        filter_df = df.query(f\"{label_column} == '{label}'\")\n",
    "        ax.scatter(filter_df[x_column], filter_df[y_column], label=label, color=custom_colors[i])\n",
    "    \n",
    "    ax.legend()\n",
    "    plt.show()"
   ]
  },
  {
   "cell_type": "code",
   "execution_count": 108,
   "metadata": {},
   "outputs": [],
   "source": [
    "# Distancia entre dos puntos\n",
    "def euclidean_distance(p_1: np.array, p_2: np.array) -> float:\n",
    "    return np.sqrt(np.sum((p_2 - p_1) ** 2))"
   ]
  },
  {
   "cell_type": "code",
   "execution_count": 109,
   "metadata": {},
   "outputs": [],
   "source": [
    "def k_nearest_neighbors(\n",
    "    points: List[np.array], labels: np.array, input_data: List[np.array], k: int\n",
    "):\n",
    "    # Distancias euclidianas entre los datos de entrada y los puntos existentes\n",
    "    input_distances = [\n",
    "        [euclidean_distance(input_point, point) for point in points]\n",
    "        for input_point in input_data\n",
    "    ]\n",
    "    points_k_nearest = [\n",
    "        np.argsort(input_point_dist)[:k] for input_point_dist in input_distances\n",
    "    ]\n",
    "    \n",
    "    def calculate_mode(point_nearest):\n",
    "        if isinstance(point_nearest[0], (int, float)):\n",
    "            # Moda para valores numéricos\n",
    "            return mode(point_nearest).mode[0]\n",
    "        else:\n",
    "           # Moda para valores no numéricos\n",
    "            grouped = groupby(sorted(point_nearest))\n",
    "            max_group = max((list(group) for key, group in grouped), key=len)\n",
    "            return max_group[0]\n",
    "\n",
    "    return [calculate_mode([labels[index] for index in point_nearest]) for point_nearest in points_k_nearest]\n",
    "\n",
    "# Creamos un conjunto de datos \n",
    "groups = [(20, 20, \"grupo1\"), (80, 40, \"grupo2\"), (200, 200, \"grupo3\")]\n",
    "df_películas = generate_df(groups, 50)"
   ]
  },
  {
   "cell_type": "code",
   "execution_count": 110,
   "metadata": {},
   "outputs": [
    {
     "data": {
      "image/png": "[encoded data removed]",
      "text/plain": [
       "<Figure size 640x480 with 1 Axes>"
      ]
     },
     "metadata": {},
     "output_type": "display_data"
    },
    {
     "name": "stdout",
     "output_type": "stream",
     "text": [
      "['grupo2', 'grupo1', 'grupo3', 'grupo2']\n"
     ]
    }
   ],
   "source": [
    "# Guardar la imagen con el gráfico\n",
    "scatter_group_by(df_películas, \"titulo\", \"duracion\", \"estreno\")\n",
    "\n",
    "list_t = [\n",
    "    (np.array(tuples[0:1]), tuples[2])\n",
    "    for tuples in df_películas.itertuples(index=False, name=None)\n",
    "]\n",
    "points = [point for point, _ in list_t]\n",
    "labels = [label for _, label in list_t]\n",
    "\n",
    "# Ejemplo de clasificación de k-nearest neighbors para algunos puntos\n",
    "kn = k_nearest_neighbors(\n",
    "    points,\n",
    "    labels,\n",
    "    [np.array([100, 150]), np.array([1, 1]), np.array([1, 300]), np.array([80, 40])],\n",
    "    5,\n",
    ")\n",
    "print(kn)\n",
    "\n",
    "#Group1: peliculas con titulo y duracion más corto\n",
    "#Group2: peliculas con titulo mas descriptivo y duracion moderada\n",
    "#Group3: peliculas con titulo y duracion más largos\n",
    "#X:titulo de la pelicula Y:duracion de la pelicula"
   ]
  }
 ],
 "metadata": {
  "kernelspec": {
   "display_name": "Python 3",
   "language": "python",
   "name": "python3"
  },
  "language_info": {
   "codemirror_mode": {
    "name": "ipython",
    "version": 3
   },
   "file_extension": ".py",
   "mimetype": "text/x-python",
   "name": "python",
   "nbconvert_exporter": "python",
   "pygments_lexer": "ipython3",
   "version": "3.11.5"
  }
 },
 "nbformat": 4,
 "nbformat_minor": 2
}
