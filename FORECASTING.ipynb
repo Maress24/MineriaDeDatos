{
 "cells": [
  {
   "cell_type": "code",
   "execution_count": 26,
   "metadata": {},
   "outputs": [],
   "source": [
    "import matplotlib.pyplot as plt\n",
    "import statsmodels.api as sm\n",
    "import numbers\n",
    "import pandas as pd\n",
    "from tabulate import tabulate\n",
    "from statsmodels.stats.outliers_influence import summary_table\n",
    "from typing import Tuple, Dict\n",
    "import numpy as np\n",
    "from io import StringIO"
   ]
  },
  {
   "cell_type": "code",
   "execution_count": 17,
   "metadata": {},
   "outputs": [],
   "source": [
    "df_peliculas = pd.read_csv('DATA_LIMPIO.csv')"
   ]
  },
  {
   "cell_type": "code",
   "execution_count": 18,
   "metadata": {},
   "outputs": [],
   "source": [
    "def print_tabulate(df: pd.DataFrame):\n",
    "    print(tabulate(df, headers=df.columns, tablefmt=\"orgtbl\"))"
   ]
  },
  {
   "cell_type": "code",
   "execution_count": 19,
   "metadata": {},
   "outputs": [],
   "source": [
    "def transform_variable(df: pd.DataFrame, x: str) -> pd.Series:\n",
    "    if isinstance(df[x][df.index[0]], numbers.Number):\n",
    "        return df[x] \n",
    "    else:\n",
    "        return pd.Series([i for i in range(0, len(df[x]))])"
   ]
  },
  {
   "cell_type": "code",
   "execution_count": 33,
   "metadata": {},
   "outputs": [],
   "source": [
    "def linear_regression(df: pd.DataFrame, x: str, y: str) -> Dict[str, float]:\n",
    "    fixed_x = transform_variable(df, x)\n",
    "    model = sm.OLS(list(df[y]), sm.add_constant(fixed_x)).fit()\n",
    "\n",
    "    # Use StringIO to wrap HTML strings\n",
    "    bands = pd.read_html(StringIO(model.summary().tables[1].as_html()), header=0, index_col=0)[0]\n",
    "    coef = pd.read_html(StringIO(model.summary().tables[1].as_html()), header=0, index_col=0)[0]['coef']\n",
    "    r_2_t = pd.read_html(StringIO(model.summary().tables[0].as_html()), header=None, index_col=None)[0]\n",
    "\n",
    "    # Access values by position using iloc\n",
    "    return {'m': coef.iloc[1], \n",
    "            'b': coef.iloc[0], \n",
    "            'r2': r_2_t.iloc[0, 3], \n",
    "            'r2_adj': r_2_t.iloc[1, 3],\n",
    "            'low_band': bands.iloc[0]['[0.025'], \n",
    "            'hi_band': bands.iloc[0]['0.975]']}\n"
   ]
  },
  {
   "cell_type": "code",
   "execution_count": 34,
   "metadata": {},
   "outputs": [],
   "source": [
    "def plt_lr(df: pd.DataFrame, x: str, y: str, m: float, b: float, r2: float, r2_adj: float,\n",
    "           low_band: float, hi_band: float, colors: Tuple[str, str]):\n",
    "    fixed_x = transform_variable(df, x)\n",
    "    plt.plot(df[x], [m * x + b for _, x in fixed_x.items()], color=colors[0])\n",
    "    plt.fill_between(df[x],\n",
    "                     [m * x + low_band for _, x in fixed_x.items()],\n",
    "                     [m * x + hi_band for _, x in fixed_x.items()], alpha=0.2, color=colors[1])"
   ]
  },
  {
   "cell_type": "code",
   "execution_count": 36,
   "metadata": {},
   "outputs": [],
   "source": [
    "df = df_peliculas.tail(50)  \n",
    "x = \"Duracion\"  \n",
    "y = \"Ventas\""
   ]
  },
  {
   "cell_type": "code",
   "execution_count": 37,
   "metadata": {},
   "outputs": [
    {
     "name": "stderr",
     "output_type": "stream",
     "text": [
      "c:\\Users\\Yulia\\AppData\\Local\\Programs\\Python\\Python311\\Lib\\site-packages\\statsmodels\\stats\\stattools.py:74: ValueWarning: omni_normtest is not valid with less than 8 observations; 5 samples were given.\n",
      "  warn(\"omni_normtest is not valid with less than 8 observations; %i \"\n",
      "c:\\Users\\Yulia\\AppData\\Local\\Programs\\Python\\Python311\\Lib\\site-packages\\statsmodels\\stats\\stattools.py:74: ValueWarning: omni_normtest is not valid with less than 8 observations; 5 samples were given.\n",
      "  warn(\"omni_normtest is not valid with less than 8 observations; %i \"\n",
      "c:\\Users\\Yulia\\AppData\\Local\\Programs\\Python\\Python311\\Lib\\site-packages\\statsmodels\\stats\\stattools.py:74: ValueWarning: omni_normtest is not valid with less than 8 observations; 5 samples were given.\n",
      "  warn(\"omni_normtest is not valid with less than 8 observations; %i \"\n"
     ]
    },
    {
     "data": {
      "image/png": "[encoded data removed]",
      "text/plain": [
       "<Figure size 640x480 with 1 Axes>"
      ]
     },
     "metadata": {},
     "output_type": "display_data"
    },
    {
     "name": "stdout",
     "output_type": "stream",
     "text": [
      "|      | Titulo                     | Estreno    |   Duracion |   Ventas | Genero     |\n",
      "|------+----------------------------+------------+------------+----------+------------|\n",
      "| 2501 | Wild Wild West             | 2/28/2021  |        184 |     5417 | Western    |\n",
      "| 2502 | Wildest Dream              | 9/20/2019  |        118 |     7197 | Documental |\n",
      "| 2503 | Will                       | 6/14/2019  |        117 |     5385 | Fantasia   |\n",
      "| 2504 | Willow Creek               | 6/20/2023  |        103 |     7548 | Terror     |\n",
      "| 2505 | Winds of the Wasteland     | 12/08/2020 |        181 |     6388 | Western    |\n",
      "| 2506 | Wings                      | 03/08/2020 |        248 |     3691 | Guerra     |\n",
      "| 2507 | Winter's Tale              | 11/26/2018 |        188 |     1816 | Fantasia   |\n",
      "| 2508 | Wisconsin Death Trip       | 11/19/2021 |        137 |     2960 | Documental |\n",
      "| 2509 | Wish                       | 05/11/2023 |        183 |     2729 | Comedia    |\n",
      "| 2510 | Wish You Were Here         | 08/01/2022 |         95 |      882 | Comedia    |\n",
      "| 2511 | Witch Way Love             | 01/07/2023 |        112 |     8073 | Fantasia   |\n",
      "| 2512 | With a Song in My Heart    | 1/15/2022  |         97 |     6247 | Musical    |\n",
      "| 2513 | With Fire and Sword        | 5/14/2022  |        193 |     3940 | Historia   |\n",
      "| 2514 | Without a Paddle           | 07/05/2021 |        183 |     3197 | Aventura   |\n",
      "| 2515 | Without Love               | 11/23/2020 |        117 |      279 | Comedia    |\n",
      "| 2516 | Wittgenstein               | 6/14/2022  |         89 |     4281 | Comedia    |\n",
      "| 2517 | Wizard                     | 3/23/2022  |        117 |     5026 | Aventura   |\n",
      "| 2518 | Wog Boy                    | 9/20/2022  |        200 |     9729 | Comedia    |\n",
      "| 2519 | Wonder Boys                | 01/04/2022 |         79 |     8944 | Comedia    |\n",
      "| 2520 | World's Greatest Dad       | 6/22/2020  |        127 |     4666 | Comedia    |\n",
      "| 2521 | Wraith                     | 05/06/2019 |        143 |     5426 | Crimen     |\n",
      "| 2522 | Wrong Move                 | 6/19/2019  |        181 |     6779 | Fantasia   |\n",
      "| 2523 | WW III: World War III      | 10/06/2019 |        183 |     3034 | Guerra     |\n",
      "| 2524 | Xala                       | 5/27/2021  |         88 |     8539 | Comedia    |\n",
      "| 2525 | Ya no estoy aquí           | 05/01/2020 |         84 |     1699 | Musical    |\n",
      "| 2526 | Yahoo                      | 7/26/2022  |        183 |     4235 | Fantasia   |\n",
      "| 2527 | Yanks                      | 01/08/2019 |         89 |     3615 | Guerra     |\n",
      "| 2528 | Year of the Dog            | 9/24/2021  |        136 |     9347 | Comedia    |\n",
      "| 2529 | Year One                   | 01/09/2021 |        190 |     5945 | Aventura   |\n",
      "| 2530 | YellowBrickRoad            | 11/17/2021 |        126 |     9503 | Terror     |\n",
      "| 2531 | Yo adolescente             | 4/24/2019  |        181 |     1706 | Comedia    |\n",
      "| 2532 | Yo soy Dolemite            | 08/04/2023 |        122 |     8756 | Comedia    |\n",
      "| 2533 | Yo soy Vanessa Guillen     | 1/25/2021  |         89 |     2366 | Documental |\n",
      "| 2534 | Yonkers Joe                | 09/08/2018 |         95 |     1191 | Crimen     |\n",
      "| 2535 | You May Not Kiss the Bride | 3/31/2020  |        152 |     1575 | Comedia    |\n",
      "| 2536 | Young at Heart             | 3/21/2022  |        181 |     6868 | Musical    |\n",
      "| 2537 | Young Frankenstein         | 7/19/2022  |        177 |     6127 | Comedia    |\n",
      "| 2538 | Young Guns II              | 02/08/2023 |        161 |     5078 | Western    |\n",
      "| 2539 | Yours, Mine and Ours       | 12/19/2019 |        179 |     3866 | Comedia    |\n",
      "| 2540 | Zama                       | 8/16/2021  |        135 |     5453 | Historia   |\n",
      "| 2541 | Zaniki                     | 04/05/2022 |        183 |     5760 | Terror     |\n",
      "| 2542 | Zero Degrees of Separation | 4/21/2020  |        164 |     2828 | Documental |\n",
      "| 2543 | Zeus and Roxanne           | 03/02/2019 |        129 |     8965 | Aventura   |\n",
      "| 2544 | Zombie II                  | 10/23/2018 |        181 |     8891 | Horror     |\n",
      "| 2545 | Zombies Party              | 12/23/2004 |         65 |     8085 | Musical    |\n",
      "| 2546 | Zookeeper                  | 5/27/2022  |        181 |     3819 | Fantasia   |\n",
      "| 2547 | Zoolander                  | 2/18/2001  |        159 |     1010 | Comedia    |\n",
      "| 2548 | Zorba the Greek            | 06/11/2021 |         89 |     1747 | Musical    |\n",
      "| 2549 | Zozo                       | 03/10/2023 |         89 |      990 | Guerra     |\n",
      "| 2550 | Zulu Dawn                  | 8/24/2021  |        134 |     5341 | Guerra     |\n"
     ]
    }
   ],
   "source": [
    "df.plot(x=x, y=y, kind='scatter')\n",
    "a = linear_regression(df, x, y)\n",
    "plt_lr(df=df, x=x, y=y, colors=('blue', 'green'), **a)\n",
    "a = linear_regression(df.tail(5), x, y)\n",
    "plt_lr(df=df.tail(5), x=x, y=y, colors=('blue', 'green'), **a)\n",
    "\n",
    "plt.show()\n",
    "print_tabulate(df)"
   ]
  }
 ],
 "metadata": {
  "kernelspec": {
   "display_name": "Python 3",
   "language": "python",
   "name": "python3"
  },
  "language_info": {
   "codemirror_mode": {
    "name": "ipython",
    "version": 3
   },
   "file_extension": ".py",
   "mimetype": "text/x-python",
   "name": "python",
   "nbconvert_exporter": "python",
   "pygments_lexer": "ipython3",
   "version": "3.11.5"
  }
 },
 "nbformat": 4,
 "nbformat_minor": 2
}
