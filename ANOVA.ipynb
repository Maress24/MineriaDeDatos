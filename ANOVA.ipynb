{
 "cells": [
  {
   "cell_type": "code",
   "execution_count": 1,
   "metadata": {},
   "outputs": [],
   "source": [
    "import pandas as pd\n",
    "import matplotlib.pyplot as plt\n",
    "import statsmodels.api as sm\n",
    "from statsmodels.formula.api import ols\n",
    "import seaborn as sns"
   ]
  },
  {
   "cell_type": "code",
   "execution_count": 2,
   "metadata": {},
   "outputs": [
    {
     "data": {
      "text/html": [
       "<div>\n",
       "<style scoped>\n",
       "    .dataframe tbody tr th:only-of-type {\n",
       "        vertical-align: middle;\n",
       "    }\n",
       "\n",
       "    .dataframe tbody tr th {\n",
       "        vertical-align: top;\n",
       "    }\n",
       "\n",
       "    .dataframe thead th {\n",
       "        text-align: right;\n",
       "    }\n",
       "</style>\n",
       "<table border=\"1\" class=\"dataframe\">\n",
       "  <thead>\n",
       "    <tr style=\"text-align: right;\">\n",
       "      <th></th>\n",
       "      <th>Titulo</th>\n",
       "      <th>Estreno</th>\n",
       "      <th>Duracion</th>\n",
       "      <th>Ventas</th>\n",
       "      <th>Genero</th>\n",
       "    </tr>\n",
       "  </thead>\n",
       "  <tbody>\n",
       "    <tr>\n",
       "      <th>0</th>\n",
       "      <td>Ella Lola</td>\n",
       "      <td>6/30/2021</td>\n",
       "      <td>184</td>\n",
       "      <td>8642</td>\n",
       "      <td>Comedia</td>\n",
       "    </tr>\n",
       "    <tr>\n",
       "      <th>1</th>\n",
       "      <td>In Search of the Ravishing Princess Herzelinde</td>\n",
       "      <td>10/09/2019</td>\n",
       "      <td>65</td>\n",
       "      <td>499</td>\n",
       "      <td>Comedia</td>\n",
       "    </tr>\n",
       "    <tr>\n",
       "      <th>2</th>\n",
       "      <td>The Brandon Teena Story</td>\n",
       "      <td>3/23/2021</td>\n",
       "      <td>181</td>\n",
       "      <td>9973</td>\n",
       "      <td>Crimen</td>\n",
       "    </tr>\n",
       "    <tr>\n",
       "      <th>3</th>\n",
       "      <td>The Silent Scream</td>\n",
       "      <td>08/10/2019</td>\n",
       "      <td>207</td>\n",
       "      <td>5687</td>\n",
       "      <td>Terror</td>\n",
       "    </tr>\n",
       "    <tr>\n",
       "      <th>4</th>\n",
       "      <td>The Tattooed Widow</td>\n",
       "      <td>9/19/2018</td>\n",
       "      <td>110</td>\n",
       "      <td>1880</td>\n",
       "      <td>Crimen</td>\n",
       "    </tr>\n",
       "    <tr>\n",
       "      <th>...</th>\n",
       "      <td>...</td>\n",
       "      <td>...</td>\n",
       "      <td>...</td>\n",
       "      <td>...</td>\n",
       "      <td>...</td>\n",
       "    </tr>\n",
       "    <tr>\n",
       "      <th>2546</th>\n",
       "      <td>Zookeeper</td>\n",
       "      <td>5/27/2022</td>\n",
       "      <td>181</td>\n",
       "      <td>3819</td>\n",
       "      <td>Fantasia</td>\n",
       "    </tr>\n",
       "    <tr>\n",
       "      <th>2547</th>\n",
       "      <td>Zoolander</td>\n",
       "      <td>2/18/2001</td>\n",
       "      <td>159</td>\n",
       "      <td>1010</td>\n",
       "      <td>Comedia</td>\n",
       "    </tr>\n",
       "    <tr>\n",
       "      <th>2548</th>\n",
       "      <td>Zorba the Greek</td>\n",
       "      <td>06/11/2021</td>\n",
       "      <td>89</td>\n",
       "      <td>1747</td>\n",
       "      <td>Musical</td>\n",
       "    </tr>\n",
       "    <tr>\n",
       "      <th>2549</th>\n",
       "      <td>Zozo</td>\n",
       "      <td>03/10/2023</td>\n",
       "      <td>89</td>\n",
       "      <td>990</td>\n",
       "      <td>Guerra</td>\n",
       "    </tr>\n",
       "    <tr>\n",
       "      <th>2550</th>\n",
       "      <td>Zulu Dawn</td>\n",
       "      <td>8/24/2021</td>\n",
       "      <td>134</td>\n",
       "      <td>5341</td>\n",
       "      <td>Guerra</td>\n",
       "    </tr>\n",
       "  </tbody>\n",
       "</table>\n",
       "<p>2551 rows × 5 columns</p>\n",
       "</div>"
      ],
      "text/plain": [
       "                                               Titulo     Estreno  Duracion  \\\n",
       "0                                           Ella Lola   6/30/2021       184   \n",
       "1      In Search of the Ravishing Princess Herzelinde  10/09/2019        65   \n",
       "2                             The Brandon Teena Story   3/23/2021       181   \n",
       "3                                   The Silent Scream  08/10/2019       207   \n",
       "4                                  The Tattooed Widow   9/19/2018       110   \n",
       "...                                               ...         ...       ...   \n",
       "2546                                        Zookeeper   5/27/2022       181   \n",
       "2547                                        Zoolander   2/18/2001       159   \n",
       "2548                                 Zorba the Greek   06/11/2021        89   \n",
       "2549                                             Zozo  03/10/2023        89   \n",
       "2550                                        Zulu Dawn   8/24/2021       134   \n",
       "\n",
       "      Ventas     Genero  \n",
       "0       8642   Comedia   \n",
       "1        499   Comedia   \n",
       "2       9973     Crimen  \n",
       "3       5687     Terror  \n",
       "4       1880     Crimen  \n",
       "...      ...        ...  \n",
       "2546    3819  Fantasia   \n",
       "2547    1010   Comedia   \n",
       "2548    1747    Musical  \n",
       "2549     990     Guerra  \n",
       "2550    5341     Guerra  \n",
       "\n",
       "[2551 rows x 5 columns]"
      ]
     },
     "execution_count": 2,
     "metadata": {},
     "output_type": "execute_result"
    }
   ],
   "source": [
    "df_peliculas = pd.read_csv('DATA_LIMPIO.csv')\n",
    "df_peliculas"
   ]
  },
  {
   "cell_type": "code",
   "execution_count": 3,
   "metadata": {},
   "outputs": [],
   "source": [
    "def create_boxplot_por_genero(file_name: str):\n",
    "    df_peliculas = pd.read_csv(file_name)\n",
    "    plt.figure(figsize=(12, 8)) \n",
    "    sns.boxplot(data=df_peliculas, x='Genero', y='Ventas')\n",
    "    plt.xticks(rotation=90)\n",
    "    plt.title(\"Boxplots de Ventas por Género\")\n",
    "    plt.show()"
   ]
  },
  {
   "cell_type": "code",
   "execution_count": 4,
   "metadata": {},
   "outputs": [],
   "source": [
    "def anova(df_aux: pd.DataFrame, str_ols: str):\n",
    "    modl = ols(str_ols, data=df_aux).fit()\n",
    "    anova_df = sm.stats.anova_lm(modl, typ=2)\n",
    "    if anova_df[\"PR(>F)\"][0] < 0.005:\n",
    "        print(\"hay diferencias significativas:\")\n",
    "        print(anova_df)\n",
    "\n",
    "    else:\n",
    "        print(\"No hay diferencias significativas\")"
   ]
  },
  {
   "cell_type": "code",
   "execution_count": 5,
   "metadata": {},
   "outputs": [],
   "source": [
    "def anova_1(file_name: str):\n",
    "    df_peliculas = pd.read_csv(file_name)\n",
    "    df_por_genero = df_peliculas.groupby([\"Genero\", \"Estreno\"])[[\"Ventas\"]].sum().reset_index()\n",
    "    df_aux = df_por_genero.rename(columns={\"Ventas\": \"Ganancia\"})\n",
    "    anova(df_aux, \"Ganancia ~ Genero\")"
   ]
  },
  {
   "cell_type": "code",
   "execution_count": 6,
   "metadata": {},
   "outputs": [
    {
     "name": "stdout",
     "output_type": "stream",
     "text": [
      "hay diferencias significativas:\n",
      "                sum_sq      df         F    PR(>F)\n",
      "Genero    6.944810e+08    14.0  3.584969  0.000007\n",
      "Residual  3.066315e+10  2216.0       NaN       NaN\n"
     ]
    },
    {
     "name": "stderr",
     "output_type": "stream",
     "text": [
      "C:\\Users\\Yulia\\AppData\\Local\\Temp\\ipykernel_22096\\3719710152.py:4: FutureWarning: Series.__getitem__ treating keys as positions is deprecated. In a future version, integer keys will always be treated as labels (consistent with DataFrame behavior). To access a value by position, use `ser.iloc[pos]`\n",
      "  if anova_df[\"PR(>F)\"][0] < 0.005:\n"
     ]
    }
   ],
   "source": [
    "def main():\n",
    "    df_peliculas = pd.read_csv('DATA_LIMPIO.csv')\n",
    "    anova_1('DATA_LIMPIO.csv')\n",
    "\n",
    "if __name__ == \"__main__\":\n",
    "    main()"
   ]
  },
  {
   "cell_type": "code",
   "execution_count": 7,
   "metadata": {},
   "outputs": [
    {
     "name": "stdout",
     "output_type": "stream",
     "text": [
      "No hay diferencias significativas.\n"
     ]
    },
    {
     "name": "stderr",
     "output_type": "stream",
     "text": [
      "C:\\Users\\Yulia\\AppData\\Local\\Temp\\ipykernel_22096\\1505001303.py:9: FutureWarning: Series.__getitem__ treating keys as positions is deprecated. In a future version, integer keys will always be treated as labels (consistent with DataFrame behavior). To access a value by position, use `ser.iloc[pos]`\n",
      "  if anova_df[\"PR(>F)\"][0] < 0.005:\n"
     ]
    }
   ],
   "source": [
    "#PRUEBA ANOVA PARA DURACIÓN\n",
    "def anova_duracion(file_name: str):\n",
    "    df_peliculas = pd.read_csv(file_name)\n",
    "    # Realiza una prueba ANOVA para comparar las ventas en función de la duración de las películas\n",
    "    modl = ols('Ventas ~ Duracion', data=df_peliculas).fit()\n",
    "    anova_df = sm.stats.anova_lm(modl, typ=2)\n",
    "    \n",
    "    # Imprime el resultado con el formato\n",
    "    if anova_df[\"PR(>F)\"][0] < 0.005:\n",
    "        print(\"Hay diferencias significativas:\")\n",
    "        print(anova_df)\n",
    "    else:\n",
    "        print(\"No hay diferencias significativas.\")\n",
    "\n",
    "anova_duracion('DATA_LIMPIO.csv')"
   ]
  },
  {
   "cell_type": "code",
   "execution_count": 8,
   "metadata": {},
   "outputs": [
    {
     "name": "stdout",
     "output_type": "stream",
     "text": [
      "No hay diferencias significativas.\n"
     ]
    },
    {
     "name": "stderr",
     "output_type": "stream",
     "text": [
      "C:\\Users\\Yulia\\AppData\\Local\\Temp\\ipykernel_22096\\2719096587.py:9: FutureWarning: Series.__getitem__ treating keys as positions is deprecated. In a future version, integer keys will always be treated as labels (consistent with DataFrame behavior). To access a value by position, use `ser.iloc[pos]`\n",
      "  if anova_df[\"PR(>F)\"][0] < 0.005:\n"
     ]
    }
   ],
   "source": [
    "#PRUEBA ANOVA PARA AÑO DE ESTRENO\n",
    "def anova_anio_estreno(file_name: str):\n",
    "    df_peliculas = pd.read_csv(file_name)\n",
    "    # Realiza una prueba ANOVA para comparar las ventas en función del año de estreno de las películas\n",
    "    modl = ols('Ventas ~ Estreno', data=df_peliculas).fit()\n",
    "    anova_df = sm.stats.anova_lm(modl, typ=2)\n",
    "    \n",
    "    # Imprime el resultado en el formato\n",
    "    if anova_df[\"PR(>F)\"][0] < 0.005:\n",
    "        print(\"Hay diferencias significativas:\")\n",
    "        print(anova_df)\n",
    "    else:\n",
    "        print(\"No hay diferencias significativas.\")\n",
    "\n",
    "anova_anio_estreno('DATA_LIMPIO.csv')"
   ]
  }
 ],
 "metadata": {
  "kernelspec": {
   "display_name": "Python 3",
   "language": "python",
   "name": "python3"
  },
  "language_info": {
   "codemirror_mode": {
    "name": "ipython",
    "version": 3
   },
   "file_extension": ".py",
   "mimetype": "text/x-python",
   "name": "python",
   "nbconvert_exporter": "python",
   "pygments_lexer": "ipython3",
   "version": "3.11.5"
  }
 },
 "nbformat": 4,
 "nbformat_minor": 2
}
