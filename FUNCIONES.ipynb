{
 "cells": [
  {
   "cell_type": "code",
   "execution_count": 1,
   "metadata": {},
   "outputs": [],
   "source": [
    "import pandas as pd\n",
    "import numpy as np"
   ]
  },
  {
   "cell_type": "code",
   "execution_count": 2,
   "metadata": {},
   "outputs": [],
   "source": [
    "df_peliculas = pd.read_csv('PELICULASMINERIA.csv')"
   ]
  },
  {
   "cell_type": "code",
   "execution_count": 4,
   "metadata": {},
   "outputs": [],
   "source": [
    "df_fun = df_peliculas.groupby([\"Genero\"]).agg({'Ventas': ['sum', 'count', 'mean', 'min', 'max']})"
   ]
  },
  {
   "cell_type": "code",
   "execution_count": 5,
   "metadata": {},
   "outputs": [],
   "source": [
    "df_fun = df_fun.reset_index()"
   ]
  },
  {
   "cell_type": "code",
   "execution_count": 7,
   "metadata": {},
   "outputs": [],
   "source": [
    "df_fun.columns = ['Genero', 'Suma_Total_Ventas', 'Conteo_Genero', 'Promedio_Ventas', 'Ventas_Minima', 'Ventas_Maximas']\n"
   ]
  },
  {
   "cell_type": "code",
   "execution_count": 8,
   "metadata": {},
   "outputs": [
    {
     "name": "stdout",
     "output_type": "stream",
     "text": [
      "            Genero  Suma_Total_Ventas  Conteo_Genero  Promedio_Ventas  \\\n",
      "0           Accion            1980310            387      5117.080103   \n",
      "1        Animacion            1273350            247      5155.263158   \n",
      "2         Aventura             916474            179      5119.966480   \n",
      "3           Belico              90821             18      5045.611111   \n",
      "4  Ciencia Ficcion             767535            152      5049.572368   \n",
      "\n",
      "   Ventas_Minima  Ventas_Maximas  \n",
      "0             27            9963  \n",
      "1              5            9979  \n",
      "2             50            9868  \n",
      "3            335            9547  \n",
      "4             85            9805  \n"
     ]
    }
   ],
   "source": [
    "print (df_fun.head())"
   ]
  }
 ],
 "metadata": {
  "kernelspec": {
   "display_name": "Python 3",
   "language": "python",
   "name": "python3"
  },
  "language_info": {
   "codemirror_mode": {
    "name": "ipython",
    "version": 3
   },
   "file_extension": ".py",
   "mimetype": "text/x-python",
   "name": "python",
   "nbconvert_exporter": "python",
   "pygments_lexer": "ipython3",
   "version": "3.11.5"
  },
  "orig_nbformat": 4
 },
 "nbformat": 4,
 "nbformat_minor": 2
}
