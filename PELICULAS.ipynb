{
 "cells": [
  {
   "cell_type": "code",
   "execution_count": null,
   "id": "0134e0dd-c293-46c3-a52d-f13204b1df65",
   "metadata": {},
   "outputs": [],
   "source": [
    "import pandas as pd"
   ]
  },
  {
   "cell_type": "code",
   "execution_count": null,
   "id": "7e8a3d43-3e77-4622-a281-c9b83d4453b2",
   "metadata": {
    "scrolled": true
   },
   "outputs": [],
   "source": [
    "df_peliculas = pd.read_csv ('https://raw.githubusercontent.com/Maress24/MineriaDeDatos/main/PELICULASMD.csv')"
   ]
  },
  {
   "cell_type": "code",
   "execution_count": null,
   "id": "12cc27ac-280e-4aca-9a7c-0448ec366b2b",
   "metadata": {},
   "outputs": [],
   "source": [
    "df_peliculas"
   ]
  }
 ],
 "metadata": {
  "kernelspec": {
   "display_name": "Python 3 (ipykernel)",
   "language": "python",
   "name": "python3"
  },
  "language_info": {
   "codemirror_mode": {
    "name": "ipython",
    "version": 3
   },
   "file_extension": ".py",
   "mimetype": "text/x-python",
   "name": "python",
   "nbconvert_exporter": "python",
   "pygments_lexer": "ipython3",
   "version": "3.11.5"
  }
 },
 "nbformat": 4,
 "nbformat_minor": 5
}
