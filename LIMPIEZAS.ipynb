{
 "cells": [
  {
   "cell_type": "code",
   "execution_count": 13,
   "metadata": {},
   "outputs": [],
   "source": [
    "import pandas as pd"
   ]
  },
  {
   "cell_type": "code",
   "execution_count": 14,
   "metadata": {},
   "outputs": [],
   "source": [
    "df_peliculas = pd.read_csv('PELICULASMINERIA.csv')"
   ]
  },
  {
   "cell_type": "code",
   "execution_count": 15,
   "metadata": {},
   "outputs": [
    {
     "data": {
      "text/html": [
       "<div>\n",
       "<style scoped>\n",
       "    .dataframe tbody tr th:only-of-type {\n",
       "        vertical-align: middle;\n",
       "    }\n",
       "\n",
       "    .dataframe tbody tr th {\n",
       "        vertical-align: top;\n",
       "    }\n",
       "\n",
       "    .dataframe thead th {\n",
       "        text-align: right;\n",
       "    }\n",
       "</style>\n",
       "<table border=\"1\" class=\"dataframe\">\n",
       "  <thead>\n",
       "    <tr style=\"text-align: right;\">\n",
       "      <th></th>\n",
       "      <th>Titulo</th>\n",
       "      <th>Estreno</th>\n",
       "      <th>Duracion</th>\n",
       "      <th>Ventas</th>\n",
       "      <th>Genero</th>\n",
       "    </tr>\n",
       "  </thead>\n",
       "  <tbody>\n",
       "    <tr>\n",
       "      <th>0</th>\n",
       "      <td>2012</td>\n",
       "      <td>5/20/2019</td>\n",
       "      <td>136</td>\n",
       "      <td>9937</td>\n",
       "      <td>Accion</td>\n",
       "    </tr>\n",
       "    <tr>\n",
       "      <th>1</th>\n",
       "      <td>Blood Wedding</td>\n",
       "      <td>6/19/2022</td>\n",
       "      <td>160</td>\n",
       "      <td>4514</td>\n",
       "      <td>Drama</td>\n",
       "    </tr>\n",
       "    <tr>\n",
       "      <th>2</th>\n",
       "      <td>Ella Lola</td>\n",
       "      <td>6/30/2021</td>\n",
       "      <td>184</td>\n",
       "      <td>8642</td>\n",
       "      <td>Comedia</td>\n",
       "    </tr>\n",
       "    <tr>\n",
       "      <th>3</th>\n",
       "      <td>In Search of the Ravishing Princess Herzelinde</td>\n",
       "      <td>10/09/2019</td>\n",
       "      <td>65</td>\n",
       "      <td>499</td>\n",
       "      <td>Comedia</td>\n",
       "    </tr>\n",
       "    <tr>\n",
       "      <th>4</th>\n",
       "      <td>Pokemon Detective Pikachu</td>\n",
       "      <td>05/10/2023</td>\n",
       "      <td>103</td>\n",
       "      <td>7806</td>\n",
       "      <td>Ciencia Ficcion</td>\n",
       "    </tr>\n",
       "    <tr>\n",
       "      <th>...</th>\n",
       "      <td>...</td>\n",
       "      <td>...</td>\n",
       "      <td>...</td>\n",
       "      <td>...</td>\n",
       "      <td>...</td>\n",
       "    </tr>\n",
       "    <tr>\n",
       "      <th>4995</th>\n",
       "      <td>Zoolander</td>\n",
       "      <td>2/18/2001</td>\n",
       "      <td>159</td>\n",
       "      <td>1010</td>\n",
       "      <td>Comedia</td>\n",
       "    </tr>\n",
       "    <tr>\n",
       "      <th>4996</th>\n",
       "      <td>Zootropolis</td>\n",
       "      <td>3/21/2016</td>\n",
       "      <td>68</td>\n",
       "      <td>9427</td>\n",
       "      <td>Animacion</td>\n",
       "    </tr>\n",
       "    <tr>\n",
       "      <th>4997</th>\n",
       "      <td>Zorba the Greek</td>\n",
       "      <td>06/11/2021</td>\n",
       "      <td>89</td>\n",
       "      <td>1747</td>\n",
       "      <td>Musical</td>\n",
       "    </tr>\n",
       "    <tr>\n",
       "      <th>4998</th>\n",
       "      <td>Zozo</td>\n",
       "      <td>03/10/2023</td>\n",
       "      <td>89</td>\n",
       "      <td>990</td>\n",
       "      <td>Guerra</td>\n",
       "    </tr>\n",
       "    <tr>\n",
       "      <th>4999</th>\n",
       "      <td>Zulu Dawn</td>\n",
       "      <td>8/24/2021</td>\n",
       "      <td>134</td>\n",
       "      <td>5341</td>\n",
       "      <td>Guerra</td>\n",
       "    </tr>\n",
       "  </tbody>\n",
       "</table>\n",
       "<p>5000 rows × 5 columns</p>\n",
       "</div>"
      ],
      "text/plain": [
       "                                               Titulo     Estreno  Duracion  \\\n",
       "0                                                2012   5/20/2019       136   \n",
       "1                                       Blood Wedding   6/19/2022       160   \n",
       "2                                           Ella Lola   6/30/2021       184   \n",
       "3      In Search of the Ravishing Princess Herzelinde  10/09/2019        65   \n",
       "4                           Pokemon Detective Pikachu  05/10/2023       103   \n",
       "...                                               ...         ...       ...   \n",
       "4995                                        Zoolander   2/18/2001       159   \n",
       "4996                                      Zootropolis   3/21/2016        68   \n",
       "4997                                 Zorba the Greek   06/11/2021        89   \n",
       "4998                                             Zozo  03/10/2023        89   \n",
       "4999                                        Zulu Dawn   8/24/2021       134   \n",
       "\n",
       "      Ventas           Genero  \n",
       "0       9937           Accion  \n",
       "1       4514            Drama  \n",
       "2       8642         Comedia   \n",
       "3        499         Comedia   \n",
       "4       7806  Ciencia Ficcion  \n",
       "...      ...              ...  \n",
       "4995    1010         Comedia   \n",
       "4996    9427        Animacion  \n",
       "4997    1747          Musical  \n",
       "4998     990           Guerra  \n",
       "4999    5341           Guerra  \n",
       "\n",
       "[5000 rows x 5 columns]"
      ]
     },
     "execution_count": 15,
     "metadata": {},
     "output_type": "execute_result"
    }
   ],
   "source": [
    "df_peliculas"
   ]
  },
  {
   "cell_type": "code",
   "execution_count": 16,
   "metadata": {},
   "outputs": [
    {
     "data": {
      "text/plain": [
       "Titulo\n",
       "Revolt of the Zombies    2\n",
       "Mama                     2\n",
       "Balto                    2\n",
       "Persuasion               2\n",
       "Eden                     2\n",
       "                        ..\n",
       "God on Trial             1\n",
       "God Is Brazilian         1\n",
       "God Grew Tired of Us     1\n",
       "Go Tigers!               1\n",
       "Zulu Dawn                1\n",
       "Name: count, Length: 4975, dtype: int64"
      ]
     },
     "execution_count": 16,
     "metadata": {},
     "output_type": "execute_result"
    }
   ],
   "source": [
    "df_peliculas['Titulo'].value_counts()"
   ]
  },
  {
   "cell_type": "code",
   "execution_count": 17,
   "metadata": {},
   "outputs": [
    {
     "name": "stdout",
     "output_type": "stream",
     "text": [
      "['Atenea' 'Attack of the 50 Ft. Woman' 'Balto' 'Eden' 'Frozen'\n",
      " 'Ghoulies IV' 'King Kong' 'Mama' 'Minion' 'Ministry of Fear'\n",
      " 'Misterio a la vista' 'Moana' 'Persuasion' 'Psycho II' 'Rampage'\n",
      " 'Red Dust' 'Reservation Road' 'Revolt of the Zombies' 'Rocky III'\n",
      " 'Sabata' 'Snow Dogs' 'The Search' 'The Towering Inferno' 'This Christmas'\n",
      " 'Tootsie']\n"
     ]
    }
   ],
   "source": [
    "valores_repetidos = df_peliculas[df_peliculas.duplicated(subset='Titulo', keep=False)]['Titulo']\n",
    "print(valores_repetidos.unique())"
   ]
  },
  {
   "cell_type": "code",
   "execution_count": 18,
   "metadata": {},
   "outputs": [],
   "source": [
    "df_peliculas['Titulo'] = df_peliculas['Titulo'].drop_duplicates()\n",
    "num_valores_unicos = len(df_peliculas['Titulo'].unique())"
   ]
  },
  {
   "cell_type": "code",
   "execution_count": 19,
   "metadata": {},
   "outputs": [
    {
     "name": "stdout",
     "output_type": "stream",
     "text": [
      "DataFrame con valores repetidos eliminados:\n",
      "                                               Titulo     Estreno  Duracion  \\\n",
      "0                                                2012   5/20/2019       136   \n",
      "1                                       Blood Wedding   6/19/2022       160   \n",
      "2                                           Ella Lola   6/30/2021       184   \n",
      "3      In Search of the Ravishing Princess Herzelinde  10/09/2019        65   \n",
      "4                           Pokemon Detective Pikachu  05/10/2023       103   \n",
      "...                                               ...         ...       ...   \n",
      "4995                                        Zoolander   2/18/2001       159   \n",
      "4996                                      Zootropolis   3/21/2016        68   \n",
      "4997                                 Zorba the Greek   06/11/2021        89   \n",
      "4998                                             Zozo  03/10/2023        89   \n",
      "4999                                        Zulu Dawn   8/24/2021       134   \n",
      "\n",
      "      Ventas           Genero  \n",
      "0       9937           Accion  \n",
      "1       4514            Drama  \n",
      "2       8642         Comedia   \n",
      "3        499         Comedia   \n",
      "4       7806  Ciencia Ficcion  \n",
      "...      ...              ...  \n",
      "4995    1010         Comedia   \n",
      "4996    9427        Animacion  \n",
      "4997    1747          Musical  \n",
      "4998     990           Guerra  \n",
      "4999    5341           Guerra  \n",
      "\n",
      "[5000 rows x 5 columns]\n",
      "Número de valores únicos en la columna 'Titulo': 4976\n"
     ]
    }
   ],
   "source": [
    "print(\"DataFrame con valores repetidos eliminados:\")\n",
    "print(df_peliculas)\n",
    "print(f\"Número de valores únicos en la columna 'Titulo': {num_valores_unicos}\")"
   ]
  },
  {
   "cell_type": "code",
   "execution_count": 23,
   "metadata": {},
   "outputs": [],
   "source": [
    "palabras_a_eliminar = [\"acni\", \"mis\", \"dep\", \"draa\", \"thr\", \"acc\", \"da\", \"rom\", \"cm\", \"ani\", \"cien\", \"dra\"]"
   ]
  },
  {
   "cell_type": "code",
   "execution_count": 24,
   "metadata": {},
   "outputs": [],
   "source": [
    "df_filtrado = df_peliculas[~df_peliculas[\"Genero\"].str.lower().str.contains('|'.join(palabras_a_eliminar))]"
   ]
  },
  {
   "cell_type": "code",
   "execution_count": 25,
   "metadata": {},
   "outputs": [],
   "source": [
    "df_filtrado.to_csv('DATA_LIMPIO', index=False) "
   ]
  }
 ],
 "metadata": {
  "kernelspec": {
   "display_name": "Python 3",
   "language": "python",
   "name": "python3"
  },
  "language_info": {
   "codemirror_mode": {
    "name": "ipython",
    "version": 3
   },
   "file_extension": ".py",
   "mimetype": "text/x-python",
   "name": "python",
   "nbconvert_exporter": "python",
   "pygments_lexer": "ipython3",
   "version": "3.11.5"
  },
  "orig_nbformat": 4
 },
 "nbformat": 4,
 "nbformat_minor": 2
}
