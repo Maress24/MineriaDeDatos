{
 "cells": [
  {
   "cell_type": "code",
   "execution_count": 29,
   "metadata": {},
   "outputs": [],
   "source": [
    "import pandas as pd\n",
    "import matplotlib.pyplot as plt\n",
    "import numpy as np\n",
    "from typing import Tuple, Dict, List\n",
    "from functools import reduce"
   ]
  },
  {
   "cell_type": "code",
   "execution_count": 30,
   "metadata": {},
   "outputs": [],
   "source": [
    "#normalizamos una distribucion a un tamaño\n",
    "def normalize_distribution(dist: np.array, n: int) -> np.array:\n",
    "    b = dist - min(dist) + 0.000001\n",
    "    c = (b / np.sum(b)) * n\n",
    "    return np.round(c)"
   ]
  },
  {
   "cell_type": "code",
   "execution_count": 31,
   "metadata": {},
   "outputs": [],
   "source": [
    "#creamos la funcion normalizada con una medida y tamaño\n",
    "def create_distribution(mean: float, size: int) -> pd.Series:\n",
    "    return normalize_distribution(np.random.standard_normal(size), mean * size)"
   ]
  },
  {
   "cell_type": "code",
   "execution_count": 32,
   "metadata": {},
   "outputs": [],
   "source": [
    "def generate_df(means: List[Tuple[float, float, str]], n: int) -> pd.DataFrame:\n",
    "    lists = [\n",
    "        (create_distribution(_x, n), create_distribution(_y, n), np.repeat(_l, n))\n",
    "        for _x, _y, _l in means\n",
    "    ]\n",
    "    x = np.array([])\n",
    "    y = np.array([])\n",
    "    labels = np.array([])\n",
    "    for _x, _y, _l in lists:\n",
    "        x = np.concatenate((x, _x), axis=None)\n",
    "        y = np.concatenate((y, _y))\n",
    "        labels = np.concatenate((labels, _l))\n",
    "    return pd.DataFrame({\"duracion\": x, \"ventas\": y, \"label\": labels})"
   ]
  },
  {
   "cell_type": "code",
   "execution_count": 33,
   "metadata": {},
   "outputs": [],
   "source": [
    "def get_cmap(n, name=\"hsv\"):\n",
    "    return plt.cm.get_cmap(name, n)"
   ]
  },
  {
   "cell_type": "code",
   "execution_count": 34,
   "metadata": {},
   "outputs": [],
   "source": [
    "#generamos el grafico\n",
    "def scatter_group_by(df: pd.DataFrame, x_column: str, y_column: str, label_column: str):\n",
    "    fig, ax = plt.subplots()\n",
    "    labels = pd.unique(df[label_column])\n",
    "    cmap = get_cmap(len(labels) + 1)\n",
    "    for i, label in enumerate(labels):\n",
    "        filter_df = df.query(f\"{label_column} == '{label}'\")\n",
    "        ax.scatter(filter_df[x_column], filter_df[y_column], label=label, color=cmap(i))\n",
    "    ax.legend()\n",
    "    plt.show() \n",
    "    plt.close()"
   ]
  },
  {
   "cell_type": "code",
   "execution_count": 35,
   "metadata": {},
   "outputs": [],
   "source": [
    "#calculamos la distancia\n",
    "def euclidean_distance(p_1: np.array, p_2: np.array) -> float:\n",
    "    return np.sqrt(np.sum((p_2 - p_1) ** 2))"
   ]
  },
  {
   "cell_type": "code",
   "execution_count": 36,
   "metadata": {},
   "outputs": [],
   "source": [
    "def k_means(points: List[np.array], k: int):\n",
    "    DIM = len(points[0])\n",
    "    N = len(points)\n",
    "    num_cluster = k\n",
    "    iterations = 15\n",
    "\n",
    "    x = np.array(points)\n",
    "    y = np.random.randint(0, num_cluster, N)\n",
    "\n",
    "    mean = np.zeros((num_cluster, DIM))\n",
    "    for t in range(iterations):\n",
    "        for k in range(num_cluster):\n",
    "            mean[k] = np.mean(x[y == k], axis=0)\n",
    "        for i in range(N):\n",
    "            dist = np.sum((mean - x[i]) ** 2, axis=1)\n",
    "            pred = np.argmin(dist)\n",
    "            y[i] = pred\n",
    "\n",
    "    #mostramos el grafico de dispersion\n",
    "    for kl in range(num_cluster):\n",
    "        xp = x[y == kl, 0]\n",
    "        yp = x[y == kl, 1]\n",
    "        plt.scatter(xp, yp)\n",
    "    plt.show()\n",
    "    plt.close()\n",
    "    return mean"
   ]
  },
  {
   "cell_type": "code",
   "execution_count": 37,
   "metadata": {},
   "outputs": [],
   "source": [
    "#creamos el conjunto\n",
    "groups_peliculas = [(20, 20, \"grupo1\"), (300, 40, \"grupo2\"), (200, 200, \"grupo3\")]\n",
    "df_peliculas = generate_df(groups_peliculas, 50)"
   ]
  },
  {
   "cell_type": "code",
   "execution_count": 38,
   "metadata": {},
   "outputs": [
    {
     "data": {
      "image/png": "[encoded data removed]",
      "text/plain": [
       "<Figure size 640x480 with 1 Axes>"
      ]
     },
     "metadata": {},
     "output_type": "display_data"
    },
    {
     "name": "stdout",
     "output_type": "stream",
     "text": [
      "[[212.17391304 319.52173913]\n",
      " [ 48.          37.25675676]\n",
      " [331.41509434  54.52830189]]\n"
     ]
    }
   ],
   "source": [
    "# Prepare data for k-means\n",
    "list_t_peliculas = [\n",
    "    (np.array(tuples[0:2]), tuples[2])\n",
    "    for tuples in df_peliculas.itertuples(index=False, name=None)\n",
    "]\n",
    "points_peliculas = [point for point, _ in list_t_peliculas]\n",
    "labels_peliculas = [label for _, label in list_t_peliculas]\n",
    "\n",
    "kn_peliculas = k_means(points_peliculas, 3)\n",
    "print(kn_peliculas)"
   ]
  }
 ],
 "metadata": {
  "kernelspec": {
   "display_name": "Python 3",
   "language": "python",
   "name": "python3"
  },
  "language_info": {
   "codemirror_mode": {
    "name": "ipython",
    "version": 3
   },
   "file_extension": ".py",
   "mimetype": "text/x-python",
   "name": "python",
   "nbconvert_exporter": "python",
   "pygments_lexer": "ipython3",
   "version": "3.11.5"
  }
 },
 "nbformat": 4,
 "nbformat_minor": 2
}
